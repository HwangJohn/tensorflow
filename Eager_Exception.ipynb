{
  "nbformat": 4,
  "nbformat_minor": 0,
  "metadata": {
    "colab": {
      "name": "Eager Exception.ipynb",
      "version": "0.3.2",
      "views": {},
      "default_view": {},
      "provenance": [],
      "collapsed_sections": [],
      "toc_visible": true
    },
    "kernelspec": {
      "name": "python3",
      "display_name": "Python 3"
    },
    "accelerator": "GPU"
  },
  "cells": [
    {
      "metadata": {
        "id": "C2NF62-AEXIS",
        "colab_type": "text"
      },
      "cell_type": "markdown",
      "source": [
        "# Eager Execution\n",
        "\n",
        "TensorFlow의 Eager excution은 추가적인 그래프 작성 단계없이 작업을 즉시 평가하는 필수 프로그래밍 환경입니다. Operations는 나중에 실행할 계산 그래프를 작성하는 대신 구체적인 값을 리턴합니다. 따라서 TensorFlow를 시작하고, 모델을 디버깅하고, boilerplate code를 줄이고, 또한 재미가 있습니다! 이 가이드를 따르려면 대화 형 파이썬 인터프리터에서 아래 코드 샘플을 실행하십시오.\n",
        "\n",
        "Eager excution은 대부분의 TensorFlow 작업과 GPU 가속을 지원합니다. Automatic differentiation은 그라디언트를 계산하기 위해 정적 그래프 대신 동적으로 구성된 테이프를 사용합니다. Eager excution은 다음을 제공하는 연구 및 실험을 위한 유연한 기계 학습 플랫폼입니다.\n",
        "\n",
        "* 직관적 인 인터페이스 - 자연스럽게 코드를 구성하고 파이썬 데이터 구조를 사용합니다. 작은 모델과 작은 데이터를 빠르게 반복 할 수 있습니다.\n",
        "* 더 쉬운 디버깅 - 실행중인 모델을 검사하고 변경 사항을 테스트하기 위해 직접 ops를 호출합니다. 즉각적인 오류보고를 위해 표준 Python 디버깅 도구를 사용하십시오.\n",
        "* 자연 제어 흐름 - 동적 모델 지원을 포함하여 그래프 제어 흐름 대신 파이썬 제어 흐름을 사용합니다.\n",
        "\n",
        "eager 실행으로 실행되는 예제 모음은 [tensorflow/contrib/eager/python/examples](https://github.com/tensorflow/tensorflow/tree/master/tensorflow/contrib/eager/python/examples)를 참조하십시오.\n",
        "\n",
        "Note : 일부 모델의 경우 열심히 실행하면 오버 헤드가 증가 할 수 있습니다. 성능 향상은 계속되고 있지만, 문제를 발견하고 벤치 마크를 공유하면 버그를 신고하십시오."
      ]
    },
    {
      "metadata": {
        "id": "521Ts-HeFal0",
        "colab_type": "text"
      },
      "cell_type": "markdown",
      "source": [
        "## Setup and basic usage\n",
        "\n",
        "### Upgrade to TensorFlow 1.7 to include updates for eager execution:"
      ]
    },
    {
      "metadata": {
        "id": "iWPGqdM0Fdws",
        "colab_type": "code",
        "colab": {
          "autoexec": {
            "startup": false,
            "wait_interval": 0
          },
          "output_extras": [
            {
              "item_id": 6
            }
          ],
          "base_uri": "https://localhost:8080/",
          "height": 302
        },
        "outputId": "6b899d91-fa62-4e11-ebc1-3d9410bbd06d",
        "executionInfo": {
          "status": "ok",
          "timestamp": 1522634537074,
          "user_tz": -540,
          "elapsed": 4709,
          "user": {
            "displayName": "John Hwang",
            "photoUrl": "https://lh3.googleusercontent.com/a/default-user=s128",
            "userId": "100225940964623691936"
          }
        }
      },
      "cell_type": "code",
      "source": [
        "!pip install --upgrade tensorflow"
      ],
      "execution_count": 4,
      "outputs": [
        {
          "output_type": "stream",
          "text": [
            "Requirement already up-to-date: tensorflow in /usr/local/lib/python3.6/dist-packages\n",
            "Requirement already up-to-date: astor>=0.6.0 in /usr/local/lib/python3.6/dist-packages (from tensorflow)\n",
            "Requirement already up-to-date: tensorboard<1.8.0,>=1.7.0 in /usr/local/lib/python3.6/dist-packages (from tensorflow)\n",
            "Requirement already up-to-date: numpy>=1.13.3 in /usr/local/lib/python3.6/dist-packages (from tensorflow)\n",
            "Requirement already up-to-date: six>=1.10.0 in /usr/local/lib/python3.6/dist-packages (from tensorflow)\n",
            "Requirement already up-to-date: gast>=0.2.0 in /usr/local/lib/python3.6/dist-packages (from tensorflow)\n",
            "Requirement already up-to-date: protobuf>=3.4.0 in /usr/local/lib/python3.6/dist-packages (from tensorflow)\n",
            "Requirement already up-to-date: absl-py>=0.1.6 in /usr/local/lib/python3.6/dist-packages (from tensorflow)\n",
            "Requirement already up-to-date: wheel>=0.26 in /usr/local/lib/python3.6/dist-packages (from tensorflow)\n",
            "Requirement already up-to-date: termcolor>=1.1.0 in /usr/local/lib/python3.6/dist-packages (from tensorflow)\n",
            "Requirement already up-to-date: grpcio>=1.8.6 in /usr/local/lib/python3.6/dist-packages (from tensorflow)\n",
            "Requirement already up-to-date: markdown>=2.6.8 in /usr/local/lib/python3.6/dist-packages (from tensorboard<1.8.0,>=1.7.0->tensorflow)\n",
            "Requirement already up-to-date: werkzeug>=0.11.10 in /usr/local/lib/python3.6/dist-packages (from tensorboard<1.8.0,>=1.7.0->tensorflow)\n",
            "Requirement already up-to-date: bleach==1.5.0 in /usr/local/lib/python3.6/dist-packages (from tensorboard<1.8.0,>=1.7.0->tensorflow)\n",
            "Requirement already up-to-date: html5lib==0.9999999 in /usr/local/lib/python3.6/dist-packages (from tensorboard<1.8.0,>=1.7.0->tensorflow)\n",
            "Requirement already up-to-date: setuptools in /usr/local/lib/python3.6/dist-packages (from protobuf>=3.4.0->tensorflow)\n"
          ],
          "name": "stdout"
        }
      ]
    },
    {
      "metadata": {
        "id": "V0DKkz68GYoi",
        "colab_type": "code",
        "colab": {
          "autoexec": {
            "startup": false,
            "wait_interval": 0
          }
        }
      },
      "cell_type": "code",
      "source": [
        "from __future__ import absolute_import, division, print_function\n",
        "\n",
        "import tensorflow as tf"
      ],
      "execution_count": 0,
      "outputs": []
    },
    {
      "metadata": {
        "id": "zhF_EYXz-gbn",
        "colab_type": "text"
      },
      "cell_type": "markdown",
      "source": [
        "#### 기존 버전 ( <= 1.6)"
      ]
    },
    {
      "metadata": {
        "id": "dY1eCVzt996k",
        "colab_type": "code",
        "colab": {
          "autoexec": {
            "startup": false,
            "wait_interval": 0
          },
          "output_extras": [
            {
              "item_id": 1
            }
          ],
          "base_uri": "https://localhost:8080/",
          "height": 54
        },
        "outputId": "0699556d-e17d-4d09-9092-691d8295775b",
        "executionInfo": {
          "status": "ok",
          "timestamp": 1522632520731,
          "user_tz": -540,
          "elapsed": 713,
          "user": {
            "displayName": "John Hwang",
            "photoUrl": "https://lh3.googleusercontent.com/a/default-user=s128",
            "userId": "100225940964623691936"
          }
        }
      },
      "cell_type": "code",
      "source": [
        "x = [[2.]]\n",
        "m = tf.matmul(x, x)\n",
        "print(\"hello, {}\".format(m))  # => \"hello, [[4.]]\""
      ],
      "execution_count": 2,
      "outputs": [
        {
          "output_type": "stream",
          "text": [
            "hello, Tensor(\"MatMul:0\", shape=(1, 1), dtype=float32)\n"
          ],
          "name": "stdout"
        }
      ]
    },
    {
      "metadata": {
        "id": "S-vtod7Y-j-P",
        "colab_type": "text"
      },
      "cell_type": "markdown",
      "source": [
        "#### tf.enable_eager_execution() 적용한 버전"
      ]
    },
    {
      "metadata": {
        "id": "exYIbDdV9k2p",
        "colab_type": "code",
        "colab": {
          "autoexec": {
            "startup": false,
            "wait_interval": 0
          },
          "output_extras": [
            {
              "item_id": 1
            }
          ],
          "base_uri": "https://localhost:8080/",
          "height": 54
        },
        "outputId": "88e55197-d81e-4d7f-cc93-2dfd8ed0f38e",
        "executionInfo": {
          "status": "ok",
          "timestamp": 1522632483188,
          "user_tz": -540,
          "elapsed": 667,
          "user": {
            "displayName": "John Hwang",
            "photoUrl": "https://lh3.googleusercontent.com/a/default-user=s128",
            "userId": "100225940964623691936"
          }
        }
      },
      "cell_type": "code",
      "source": [
        "tf.enable_eager_execution()\n",
        "\n",
        "x = [[2.]]\n",
        "m = tf.matmul(x, x)\n",
        "print(\"hello, {}\".format(m))  # => \"hello, [[4.]]\""
      ],
      "execution_count": 2,
      "outputs": [
        {
          "output_type": "stream",
          "text": [
            "hello, [[4.]]\n"
          ],
          "name": "stdout"
        }
      ]
    },
    {
      "metadata": {
        "id": "M_MIcEWdGiKX",
        "colab_type": "code",
        "colab": {
          "autoexec": {
            "startup": false,
            "wait_interval": 0
          },
          "output_extras": [
            {
              "item_id": 1
            }
          ],
          "base_uri": "https://localhost:8080/",
          "height": 285
        },
        "outputId": "0da741b8-da0a-405a-9960-fc6dd286d167",
        "executionInfo": {
          "status": "ok",
          "timestamp": 1522634762808,
          "user_tz": -540,
          "elapsed": 670,
          "user": {
            "displayName": "John Hwang",
            "photoUrl": "https://lh3.googleusercontent.com/a/default-user=s128",
            "userId": "100225940964623691936"
          }
        }
      },
      "cell_type": "code",
      "source": [
        "a = tf.constant([[1, 2],\n",
        "                 [3, 4]])\n",
        "print(a)\n",
        "# => tf.Tensor([[1 2]\n",
        "#               [3 4]], shape=(2, 2), dtype=int32)\n",
        "\n",
        "# Broadcasting support\n",
        "b = tf.add(a, 1)\n",
        "print(b)\n",
        "# => tf.Tensor([[2 3]\n",
        "#               [4 5]], shape=(2, 2), dtype=int32)\n",
        "\n",
        "# Operator overloading is supported\n",
        "print(a * b)\n",
        "# => tf.Tensor([[ 2  6]\n",
        "#               [12 20]], shape=(2, 2), dtype=int32)\n",
        "\n",
        "print(\"\\nUse NumPy values\")\n",
        "\n",
        "# Use NumPy values\n",
        "import numpy as np\n",
        "\n",
        "c = np.multiply(a, b)\n",
        "print(c)\n",
        "# => [[ 2  6]\n",
        "#     [12 20]]\n",
        "\n",
        "# Obtain numpy value from a tensor:\n",
        "print(a.numpy())\n",
        "# => [[1 2]\n",
        "#     [3 4]]"
      ],
      "execution_count": 4,
      "outputs": [
        {
          "output_type": "stream",
          "text": [
            "tf.Tensor(\n",
            "[[1 2]\n",
            " [3 4]], shape=(2, 2), dtype=int32)\n",
            "tf.Tensor(\n",
            "[[2 3]\n",
            " [4 5]], shape=(2, 2), dtype=int32)\n",
            "tf.Tensor(\n",
            "[[ 2  6]\n",
            " [12 20]], shape=(2, 2), dtype=int32)\n",
            "\n",
            "Use NumPy values\n",
            "[[ 2  6]\n",
            " [12 20]]\n",
            "[[1 2]\n",
            " [3 4]]\n"
          ],
          "name": "stdout"
        }
      ]
    },
    {
      "metadata": {
        "id": "W1U_Z7iaG0ca",
        "colab_type": "text"
      },
      "cell_type": "markdown",
      "source": [
        "tfe 모듈에는 eager 및 그래프 실행 환경에서 사용할 수있는 심볼이 들어 있으며 그래프 작업을 위한 코드를 작성하는 데 유용합니다."
      ]
    },
    {
      "metadata": {
        "id": "6fG-As51HJ6e",
        "colab_type": "code",
        "colab": {
          "autoexec": {
            "startup": false,
            "wait_interval": 0
          },
          "output_extras": [
            {
              "item_id": 1
            }
          ],
          "base_uri": "https://localhost:8080/",
          "height": 87
        },
        "outputId": "0afd3da4-9f18-4af4-d5c0-a4f3a3567a49",
        "executionInfo": {
          "status": "ok",
          "timestamp": 1522637627706,
          "user_tz": -540,
          "elapsed": 4969,
          "user": {
            "displayName": "John Hwang",
            "photoUrl": "https://lh3.googleusercontent.com/a/default-user=s128",
            "userId": "100225940964623691936"
          }
        }
      },
      "cell_type": "code",
      "source": [
        "import tensorflow.contrib.eager as tfe"
      ],
      "execution_count": 3,
      "outputs": [
        {
          "output_type": "stream",
          "text": [
            "WARNING:tensorflow:From /usr/local/lib/python3.6/dist-packages/tensorflow/contrib/learn/python/learn/datasets/base.py:198: retry (from tensorflow.contrib.learn.python.learn.datasets.base) is deprecated and will be removed in a future version.\n",
            "Instructions for updating:\n",
            "Use the retry module or similar alternatives.\n"
          ],
          "name": "stdout"
        }
      ]
    },
    {
      "metadata": {
        "id": "8RQL9tkdFeqb",
        "colab_type": "text"
      },
      "cell_type": "markdown",
      "source": [
        "### Eager training\n",
        "\n",
        "#### Automatic differentiation\n",
        "\n",
        "Automatic differentiation은 신경 네트워크 교육을 위한 역 전파와 같은 기계 학습 알고리즘을 구현하는 데 유용합니다. 열심히 실행하는 동안 tfe.GradientTape를 사용하여 나중에 그라디언트를 계산하기위한 작업을 추적하십시오.\n",
        "\n",
        "tfe.GradientTape는 추적하지 않을 때 최대한의 성능을 제공하는 opt-in 기능입니다. 각 호출 중에 다른 작업이 발생할 수 있으므로 모든 순방향 전달 작업이 \"테이프\"에 기록됩니다. 그래디언트를 계산하려면 테이프를 뒤로 움직 인 다음 폐기하십시오. 특정 tfe.GradientTape는 한 번만 계산할 수 있으며 후속 호출은 런타임 오류를 발생시킵니다."
      ]
    },
    {
      "metadata": {
        "id": "gavY7pq0HZV3",
        "colab_type": "code",
        "colab": {
          "autoexec": {
            "startup": false,
            "wait_interval": 0
          },
          "output_extras": [
            {
              "item_id": 1
            }
          ],
          "base_uri": "https://localhost:8080/",
          "height": 54
        },
        "outputId": "69dfe26b-6945-47fe-d943-1e85a5030190",
        "executionInfo": {
          "status": "ok",
          "timestamp": 1522635073370,
          "user_tz": -540,
          "elapsed": 737,
          "user": {
            "displayName": "John Hwang",
            "photoUrl": "https://lh3.googleusercontent.com/a/default-user=s128",
            "userId": "100225940964623691936"
          }
        }
      },
      "cell_type": "code",
      "source": [
        "w = tfe.Variable([[1.0]])\n",
        "with tfe.GradientTape() as tape:\n",
        "  loss = w * w\n",
        "\n",
        "grad = tape.gradient(loss, [w])\n",
        "print(grad)  # => [tf.Tensor([[ 2.]], shape=(1, 1), dtype=float32)]"
      ],
      "execution_count": 7,
      "outputs": [
        {
          "output_type": "stream",
          "text": [
            "[<tf.Tensor: id=49, shape=(1, 1), dtype=float32, numpy=array([[2.]], dtype=float32)>]\n"
          ],
          "name": "stdout"
        }
      ]
    },
    {
      "metadata": {
        "id": "5CXJB81SH5tu",
        "colab_type": "text"
      },
      "cell_type": "markdown",
      "source": [
        "Here's an example of tfe.GradientTape that records forward-pass operations to train a simple model:"
      ]
    },
    {
      "metadata": {
        "id": "o6mbpQBVH5Nd",
        "colab_type": "code",
        "colab": {
          "autoexec": {
            "startup": false,
            "wait_interval": 0
          },
          "output_extras": [
            {
              "item_id": 1
            }
          ],
          "base_uri": "https://localhost:8080/",
          "height": 252
        },
        "outputId": "11241188-6c89-4f1a-b480-d77ca6b640e7",
        "executionInfo": {
          "status": "ok",
          "timestamp": 1522635095084,
          "user_tz": -540,
          "elapsed": 709,
          "user": {
            "displayName": "John Hwang",
            "photoUrl": "https://lh3.googleusercontent.com/a/default-user=s128",
            "userId": "100225940964623691936"
          }
        }
      },
      "cell_type": "code",
      "source": [
        "# A toy dataset of points around 3 * x + 2\n",
        "NUM_EXAMPLES = 1000\n",
        "training_inputs = tf.random_normal([NUM_EXAMPLES])\n",
        "noise = tf.random_normal([NUM_EXAMPLES])\n",
        "training_outputs = training_inputs * 3 + 2 + noise\n",
        "\n",
        "def prediction(input, weight, bias):\n",
        "  return input * weight + bias\n",
        "\n",
        "# A loss function using mean-squared error\n",
        "def loss(weights, biases):\n",
        "  error = prediction(training_inputs, weights, biases) - training_outputs\n",
        "  return tf.reduce_mean(tf.square(error))\n",
        "\n",
        "# Return the derivative of loss with respect to weight and bias\n",
        "def grad(weights, biases):\n",
        "  with tfe.GradientTape() as tape:\n",
        "    loss_value = loss(weights, biases) \n",
        "  return tape.gradient(loss_value, [weights, biases])\n",
        "\n",
        "train_steps = 200\n",
        "learning_rate = 0.01\n",
        "# Start with arbitrary values for W and B on the same batch of data\n",
        "W = tfe.Variable(5.)\n",
        "B = tfe.Variable(10.)\n",
        "\n",
        "print(\"Initial loss: {:.3f}\".format(loss(W, B)))\n",
        "\n",
        "for i in range(train_steps):\n",
        "  dW, dB = grad(W, B)\n",
        "  W.assign_sub(dW * learning_rate)\n",
        "  B.assign_sub(dB * learning_rate)\n",
        "  if i % 20 == 0:\n",
        "    print(\"Loss at step {:03d}: {:.3f}\".format(i, loss(W, B)))\n",
        "\n",
        "print(\"Final loss: {:.3f}\".format(loss(W, B)))\n",
        "print(\"W = {}, B = {}\".format(W.numpy(), B.numpy()))"
      ],
      "execution_count": 8,
      "outputs": [
        {
          "output_type": "stream",
          "text": [
            "Initial loss: 68.481\n",
            "Loss at step 000: 65.824\n",
            "Loss at step 020: 30.025\n",
            "Loss at step 040: 13.998\n",
            "Loss at step 060: 6.821\n",
            "Loss at step 080: 3.608\n",
            "Loss at step 100: 2.169\n",
            "Loss at step 120: 1.524\n",
            "Loss at step 140: 1.235\n",
            "Loss at step 160: 1.106\n",
            "Loss at step 180: 1.048\n",
            "Final loss: 1.023\n",
            "W = 3.079099416732788, B = 2.141737699508667\n"
          ],
          "name": "stdout"
        }
      ]
    },
    {
      "metadata": {
        "id": "z1JPvsKUIJuS",
        "colab_type": "text"
      },
      "cell_type": "markdown",
      "source": [
        "Replay the tfe.GradientTape to compute the gradients and apply them in a training loop."
      ]
    },
    {
      "metadata": {
        "id": "ioRMFh8WI3zV",
        "colab_type": "text"
      },
      "cell_type": "markdown",
      "source": [
        "#### Dynamic models\n",
        "\n",
        "tfe.GradientTape는 동적 모델에서도 사용할 수 있습니다. backtracking line search 알고리즘에 대한이 예제는 복잡한 제어 흐름에도 불구하고 gradients가 있고 미분 가능하다는 점을 제외하고는 일반적인 NumPy 코드와 유사합니다."
      ]
    },
    {
      "metadata": {
        "id": "hTVVjLm5HyMg",
        "colab_type": "code",
        "colab": {
          "autoexec": {
            "startup": false,
            "wait_interval": 0
          }
        }
      },
      "cell_type": "code",
      "source": [
        "def line_search_step(fn, init_x, rate=1.0):\n",
        "  with tfe.GradientTape() as tape:\n",
        "    # Variables are automatically recorded, but manually watch a tensor\n",
        "    tape.watch(init_x)\n",
        "    value = fn(init_x)\n",
        "  grad, = tape.gradient(value, [init_x])\n",
        "  grad_norm = tf.reduce_sum(grad * grad)\n",
        "  init_value = value\n",
        "  while value > init_value - rate * grad_norm:\n",
        "    x = init_x - rate * grad\n",
        "    value = fn(x)\n",
        "    rate /= 2.0\n",
        "  return x, value"
      ],
      "execution_count": 0,
      "outputs": []
    },
    {
      "metadata": {
        "id": "sgqaG79AKjhz",
        "colab_type": "text"
      },
      "cell_type": "markdown",
      "source": [
        "#### Additional functions to compute gradients\n",
        "\n",
        "tfe.GradientTape는 gradients를 계산하기 위한 강력한 인터페이스이지만 automatic differentiation을 위해 사용할 수있는 또 다른 Autograd-style API가 있습니다. 이 함수는 텐서 및 gradient 함수 만 사용하고 tfe가 없는 수학 코드를 작성하는 경우에 유용합니다. 변수 :\n",
        "\n",
        "* tfe.gradients_function - 인수와 관련하여 입력 함수 매개 변수의 미분을 계산하는 함수를 반환합니다. 입력 함수 매개 변수는 스칼라 값을 반환해야합니다. 반환 된 함수가 호출되면 tf.Tensor 객체 목록을 반환합니다. 입력 함수의 각 인수에 대해 하나의 요소입니다. 관심있는 것이 무엇이든 함수 매개 변수로 전달되어야하므로, 많은 훈련 가능한 매개 변수에 의존성이 있으면 다루기 힘들어집니다.\n",
        "* tfe.value_and_gradients_function - tfe.gradients_function과 비슷하지만 리턴 된 함수가 호출 될 때 입력 함수의 인수와 관련하여 입력 함수의 파생어 목록 이외에 입력 함수의 값을 리턴합니다.\n",
        "\n",
        "다음 예제에서 tfe.gradients_function은 square 함수를 인수로 사용하고 입력에 대해 square의 편미분도를 계산하는 함수를 반환합니다. 숫자 3의 square에 대한 미분을 계산하려면 grad (3.0)이 6을 반환합니다."
      ]
    },
    {
      "metadata": {
        "id": "EbiMPBlLLIPQ",
        "colab_type": "code",
        "colab": {
          "autoexec": {
            "startup": false,
            "wait_interval": 0
          },
          "output_extras": [
            {
              "item_id": 1
            }
          ],
          "base_uri": "https://localhost:8080/",
          "height": 70
        },
        "outputId": "fbe8f934-a835-4af1-88b6-93282fcb3e67",
        "executionInfo": {
          "status": "ok",
          "timestamp": 1522636023933,
          "user_tz": -540,
          "elapsed": 714,
          "user": {
            "displayName": "John Hwang",
            "photoUrl": "https://lh3.googleusercontent.com/a/default-user=s128",
            "userId": "100225940964623691936"
          }
        }
      },
      "cell_type": "code",
      "source": [
        "def square(x):\n",
        "  return tf.multiply(x, x)\n",
        "\n",
        "grad = tfe.gradients_function(square)\n",
        "\n",
        "print(square(3.))  # => 9.0\n",
        "print(grad(3.))    # => [6.0]"
      ],
      "execution_count": 6,
      "outputs": [
        {
          "output_type": "stream",
          "text": [
            "tf.Tensor(9.0, shape=(), dtype=float32)\n",
            "[<tf.Tensor: id=58, shape=(), dtype=float32, numpy=6.0>]\n"
          ],
          "name": "stdout"
        }
      ]
    },
    {
      "metadata": {
        "id": "5u44k1UKLJxZ",
        "colab_type": "code",
        "colab": {
          "autoexec": {
            "startup": false,
            "wait_interval": 0
          },
          "output_extras": [
            {
              "item_id": 1
            }
          ],
          "base_uri": "https://localhost:8080/",
          "height": 54
        },
        "outputId": "d2b1b02c-6653-456a-c115-304262d6449f",
        "executionInfo": {
          "status": "ok",
          "timestamp": 1522636028937,
          "user_tz": -540,
          "elapsed": 642,
          "user": {
            "displayName": "John Hwang",
            "photoUrl": "https://lh3.googleusercontent.com/a/default-user=s128",
            "userId": "100225940964623691936"
          }
        }
      },
      "cell_type": "code",
      "source": [
        "# The second-order derivative of square:\n",
        "gradgrad = tfe.gradients_function(lambda x: grad(x)[0])\n",
        "gradgrad(3.)  # => [2.0]"
      ],
      "execution_count": 7,
      "outputs": [
        {
          "output_type": "execute_result",
          "data": {
            "text/plain": [
              "[<tf.Tensor: id=70, shape=(), dtype=float32, numpy=2.0>]"
            ]
          },
          "metadata": {
            "tags": []
          },
          "execution_count": 7
        }
      ]
    },
    {
      "metadata": {
        "id": "IzW-q0odLfkb",
        "colab_type": "code",
        "colab": {
          "autoexec": {
            "startup": false,
            "wait_interval": 0
          },
          "output_extras": [
            {
              "item_id": 1
            }
          ],
          "base_uri": "https://localhost:8080/",
          "height": 54
        },
        "outputId": "e14005f9-d9ff-41a0-900d-d76c93bd7839",
        "executionInfo": {
          "status": "ok",
          "timestamp": 1522636034055,
          "user_tz": -540,
          "elapsed": 663,
          "user": {
            "displayName": "John Hwang",
            "photoUrl": "https://lh3.googleusercontent.com/a/default-user=s128",
            "userId": "100225940964623691936"
          }
        }
      },
      "cell_type": "code",
      "source": [
        "# The third-order derivative is None:\n",
        "gradgradgrad = tfe.gradients_function(lambda x: gradgrad(x)[0])\n",
        "gradgradgrad(3.)  # => [None]"
      ],
      "execution_count": 8,
      "outputs": [
        {
          "output_type": "execute_result",
          "data": {
            "text/plain": [
              "[None]"
            ]
          },
          "metadata": {
            "tags": []
          },
          "execution_count": 8
        }
      ]
    },
    {
      "metadata": {
        "id": "YCQHx2wJLg0D",
        "colab_type": "code",
        "colab": {
          "autoexec": {
            "startup": false,
            "wait_interval": 0
          },
          "output_extras": [
            {
              "item_id": 1
            }
          ],
          "base_uri": "https://localhost:8080/",
          "height": 70
        },
        "outputId": "b99c2e6b-3c57-4e03-cfa2-80db6a39c4d7",
        "executionInfo": {
          "status": "ok",
          "timestamp": 1522636045055,
          "user_tz": -540,
          "elapsed": 598,
          "user": {
            "displayName": "John Hwang",
            "photoUrl": "https://lh3.googleusercontent.com/a/default-user=s128",
            "userId": "100225940964623691936"
          }
        }
      },
      "cell_type": "code",
      "source": [
        "# With flow control:\n",
        "def abs(x):\n",
        "  return x if x > 0. else -x\n",
        "\n",
        "grad = tfe.gradients_function(abs)\n",
        "\n",
        "print(grad(3.))   # => [1.0]\n",
        "print(grad(-3.))  # => [-1.0]"
      ],
      "execution_count": 9,
      "outputs": [
        {
          "output_type": "stream",
          "text": [
            "[<tf.Tensor: id=5, shape=(), dtype=float32, numpy=1.0>]\n",
            "[<tf.Tensor: id=94, shape=(), dtype=float32, numpy=-1.0>]\n"
          ],
          "name": "stdout"
        }
      ]
    },
    {
      "metadata": {
        "id": "NgmclJhPLqOk",
        "colab_type": "text"
      },
      "cell_type": "markdown",
      "source": [
        "#### Custom gradients"
      ]
    },
    {
      "metadata": {
        "id": "qFDiNOZELt5g",
        "colab_type": "text"
      },
      "cell_type": "markdown",
      "source": [
        "### Build and train models\n",
        "\n",
        "Eager execution은 tf.keras.layers 모듈에서 Keras 스타일 레이어 클래스의 사용을 권장합니다. 또한 tf.train.Optimizer 클래스는 매개 변수 업데이트를 계산하는 정교한 기술을 제공합니다."
      ]
    },
    {
      "metadata": {
        "id": "PFetCI-HNicU",
        "colab_type": "text"
      },
      "cell_type": "markdown",
      "source": [
        "#### Build a model"
      ]
    },
    {
      "metadata": {
        "id": "YlGZxiZOLjgy",
        "colab_type": "code",
        "colab": {
          "autoexec": {
            "startup": false,
            "wait_interval": 0
          }
        }
      },
      "cell_type": "code",
      "source": [
        "model = tf.keras.Sequential([\n",
        "  tf.keras.layers.Dense(10, input_shape=(784,)),  # must declare input shape\n",
        "  tf.keras.layers.Dense(10)\n",
        "])"
      ],
      "execution_count": 0,
      "outputs": []
    },
    {
      "metadata": {
        "id": "_Haitaa0L35-",
        "colab_type": "code",
        "colab": {
          "autoexec": {
            "startup": false,
            "wait_interval": 0
          }
        }
      },
      "cell_type": "code",
      "source": [
        "class MNISTModel(tf.keras.Model):\n",
        "  def __init__(self):\n",
        "    super(MNISTModel, self).__init__()\n",
        "    self.dense1 = tf.keras.layers.Dense(units=10)\n",
        "    self.dense2 = tf.keras.layers.Dense(units=10)\n",
        "\n",
        "  def call(self, input):\n",
        "    \"\"\"Run the model.\"\"\"\n",
        "    result = self.dense1(input)\n",
        "    result = self.dense2(result)\n",
        "    result = self.dense2(result)  # reuse variables from dense2 layer\n",
        "    return result\n",
        "\n",
        "model = MNISTModel()"
      ],
      "execution_count": 0,
      "outputs": []
    },
    {
      "metadata": {
        "id": "U6k6ZKD3Ncms",
        "colab_type": "text"
      },
      "cell_type": "markdown",
      "source": [
        "#### Train a model\n",
        "\n",
        "Even without training, call the model and inspect the output in eager execution:"
      ]
    },
    {
      "metadata": {
        "id": "lyBkpJbSL5bu",
        "colab_type": "code",
        "colab": {
          "autoexec": {
            "startup": false,
            "wait_interval": 0
          },
          "output_extras": [
            {
              "item_id": 1
            }
          ],
          "base_uri": "https://localhost:8080/",
          "height": 70
        },
        "outputId": "8d7243da-a532-44c6-a2a8-cc5ef821475e",
        "executionInfo": {
          "status": "ok",
          "timestamp": 1522636164737,
          "user_tz": -540,
          "elapsed": 619,
          "user": {
            "displayName": "John Hwang",
            "photoUrl": "https://lh3.googleusercontent.com/a/default-user=s128",
            "userId": "100225940964623691936"
          }
        }
      },
      "cell_type": "code",
      "source": [
        "# Create a tensor representing a blank image\n",
        "batch = tf.zeros([1, 1, 784])\n",
        "print(batch.shape)  # => (1, 1, 784)\n",
        "\n",
        "result = model(batch)\n",
        "print(result) # => tf.Tensor([[[ 0.  0., ..., 0.]]], shape=(1, 1, 10), dtype=float32)"
      ],
      "execution_count": 12,
      "outputs": [
        {
          "output_type": "stream",
          "text": [
            "(1, 1, 784)\n",
            "tf.Tensor([[[0. 0. 0. 0. 0. 0. 0. 0. 0. 0.]]], shape=(1, 1, 10), dtype=float32)\n"
          ],
          "name": "stdout"
        }
      ]
    },
    {
      "metadata": {
        "id": "piC45yd0NuQ5",
        "colab_type": "text"
      },
      "cell_type": "markdown",
      "source": [
        "#### Variables and optimizers\n",
        "\n",
        "tfe.Variable는 automatic differentiation를 쉽게하기 위해 학습 중에 액세스 할 수있는 변경 가능한 tf.Tensor 값을 저장합니다. 모델의 매개 변수는 클래스로 변수로 캡슐화 될 수 있습니다.\n",
        "\n",
        "tfe.GradientTape와 함께 tfe.Variable을 사용하여 모델 매개 변수를보다 잘 캡슐화합니다. 예를 들어 위의 automatic differentiation 예제를 다시 작성할 수 있습니다."
      ]
    },
    {
      "metadata": {
        "id": "y_7cXAlJN6qY",
        "colab_type": "code",
        "colab": {
          "autoexec": {
            "startup": false,
            "wait_interval": 0
          },
          "output_extras": [
            {
              "item_id": 2
            }
          ],
          "base_uri": "https://localhost:8080/",
          "height": 401
        },
        "outputId": "36eb42cf-275f-4005-db85-0459e5a4d04b",
        "executionInfo": {
          "status": "ok",
          "timestamp": 1522636765421,
          "user_tz": -540,
          "elapsed": 950,
          "user": {
            "displayName": "John Hwang",
            "photoUrl": "https://lh3.googleusercontent.com/a/default-user=s128",
            "userId": "100225940964623691936"
          }
        }
      },
      "cell_type": "code",
      "source": [
        "class Model(tf.keras.Model):\n",
        "  def __init__(self):\n",
        "    super(Model, self).__init__()\n",
        "    self.W = tfe.Variable(5., name='weight')\n",
        "    self.B = tfe.Variable(10., name='bias')\n",
        "  def predict(self, inputs):\n",
        "    return inputs * self.W + self.B\n",
        "\n",
        "# A toy dataset of points around 3 * x + 2\n",
        "NUM_EXAMPLES = 2000\n",
        "training_inputs = tf.random_normal([NUM_EXAMPLES])\n",
        "print(\"inputs : {}\".format(training_inputs)) # print inputs\n",
        "noise = tf.random_normal([NUM_EXAMPLES])\n",
        "print(\"noise : {}\".format(noise)) # print noise\n",
        "training_outputs = training_inputs * 3 + 2 + noise\n",
        "\n",
        "# The loss function to be optimized\n",
        "def loss(model, inputs, targets):\n",
        "  error = model.predict(inputs) - targets\n",
        "  return tf.reduce_mean(tf.square(error))\n",
        "\n",
        "def grad(model, inputs, targets):\n",
        "  with tfe.GradientTape() as tape:\n",
        "    loss_value = loss(model, inputs, targets)\n",
        "  return tape.gradient(loss_value, [model.W, model.B])\n",
        "\n",
        "# Define:\n",
        "# 1. A model.\n",
        "# 2. Derivatives of a loss function with respect to model parameters.\n",
        "# 3. A strategy for updating the variables based on the derivatives.\n",
        "model = Model()\n",
        "optimizer = tf.train.GradientDescentOptimizer(learning_rate=0.01)\n",
        "\n",
        "print(\"Initial loss: {:.3f}\".format(loss(model, training_inputs, training_outputs)))\n",
        "\n",
        "# Training loop\n",
        "for i in range(300):\n",
        "  grads = grad(model, training_inputs, training_outputs)\n",
        "  optimizer.apply_gradients(zip(grads, [model.W, model.B]),\n",
        "                            global_step=tf.train.get_or_create_global_step())\n",
        "  if i % 20 == 0:\n",
        "    print(\"Loss at step {:03d}: {:.3f}\".format(i, loss(model, training_inputs, training_outputs)))\n",
        "\n",
        "print(\"Final loss: {:.3f}\".format(loss(model, training_inputs, training_outputs)))\n",
        "print(\"W = {}, B = {}\".format(model.W.numpy(), model.B.numpy()))"
      ],
      "execution_count": 24,
      "outputs": [
        {
          "output_type": "stream",
          "text": [
            "inputs : [-0.80618113  0.0305943   0.26421696 ...  0.94597554  0.20125063\n",
            "  2.0738869 ]\n",
            "noise : [ 0.930609    0.07488708  1.4669206  ...  0.2983844  -2.2759821\n",
            "  0.91414446]\n",
            "Initial loss: 70.024\n",
            "Loss at step 000: 67.239\n",
            "Loss at step 020: 30.071\n",
            "Loss at step 040: 13.754\n",
            "Loss at step 060: 6.586\n",
            "Loss at step 080: 3.436\n",
            "Loss at step 100: 2.050\n",
            "Loss at step 120: 1.440\n",
            "Loss at step 140: 1.171\n",
            "Loss at step 160: 1.052\n",
            "Loss at step 180: 1.000\n",
            "Loss at step 200: 0.977\n",
            "Loss at step 220: 0.967\n",
            "Loss at step 240: 0.962\n",
            "Loss at step 260: 0.960\n",
            "Loss at step 280: 0.959\n",
            "Final loss: 0.959\n",
            "W = 2.9771499633789062, B = 2.0310218334198\n"
          ],
          "name": "stdout"
        }
      ]
    },
    {
      "metadata": {
        "id": "CYxYf6IfOjIg",
        "colab_type": "text"
      },
      "cell_type": "markdown",
      "source": [
        "### Use objects for state during eager execution\n",
        "\n",
        "graph execution과 함께, 프로그램 상태 (예 : Variable)는 전역 콜렉션에 저장되며 수명은 tf.Session 오브젝트에 의해 관리됩니다. 반대로, eager execution 동안, 상태 객체의 수명은 해당 Python 객체의 수명에 따라 결정됩니다."
      ]
    },
    {
      "metadata": {
        "id": "b1IikX25O2K9",
        "colab_type": "text"
      },
      "cell_type": "markdown",
      "source": [
        "#### Variables are objects\n",
        "\n",
        "eager execution 동안 변수는 객체에 대한 마지막 참조가 제거 될 때까지 지속 된 다음 삭제됩니다."
      ]
    },
    {
      "metadata": {
        "id": "_x5CWDoBN8CQ",
        "colab_type": "code",
        "colab": {
          "autoexec": {
            "startup": false,
            "wait_interval": 0
          }
        }
      },
      "cell_type": "code",
      "source": [
        "with tf.device(\"CPU:0\"):\n",
        "  v = tfe.Variable(tf.random_normal([1000, 1000]))\n",
        "  v = None  # v no longer takes up GPU memory"
      ],
      "execution_count": 0,
      "outputs": []
    },
    {
      "metadata": {
        "id": "tCzdRh4fPnoP",
        "colab_type": "text"
      },
      "cell_type": "markdown",
      "source": [
        "#### Object-based saving\n",
        "\n",
        "tfe.Checkpoint은 체크 포인트와의 사이에 tfe.Variables를 저장하고 복원 할 수 있습니다."
      ]
    },
    {
      "metadata": {
        "id": "JchUfkM4PaEn",
        "colab_type": "code",
        "colab": {
          "autoexec": {
            "startup": false,
            "wait_interval": 0
          },
          "output_extras": [
            {
              "item_id": 1
            }
          ],
          "base_uri": "https://localhost:8080/",
          "height": 54
        },
        "outputId": "35304001-787d-48a0-ac27-741cdc4d2b10",
        "executionInfo": {
          "status": "ok",
          "timestamp": 1522637166499,
          "user_tz": -540,
          "elapsed": 572,
          "user": {
            "displayName": "John Hwang",
            "photoUrl": "https://lh3.googleusercontent.com/a/default-user=s128",
            "userId": "100225940964623691936"
          }
        }
      },
      "cell_type": "code",
      "source": [
        "x = tfe.Variable(10.)\n",
        "\n",
        "checkpoint = tfe.Checkpoint(x=x)  # save as \"x\"\n",
        "\n",
        "x.assign(2.)   # Assign a new value to the variables and save.\n",
        "save_path = checkpoint.save('./ckpt/')\n",
        "\n",
        "x.assign(11.)  # Change the variable after saving.\n",
        "\n",
        "# Restore values from the checkpoint\n",
        "checkpoint.restore(save_path)\n",
        "\n",
        "print(x)  # => 2.0"
      ],
      "execution_count": 33,
      "outputs": [
        {
          "output_type": "stream",
          "text": [
            "<tf.Variable 'Variable:0' shape=() dtype=float32, numpy=2.0>\n"
          ],
          "name": "stdout"
        }
      ]
    },
    {
      "metadata": {
        "id": "bckUjqp4P7KH",
        "colab_type": "text"
      },
      "cell_type": "markdown",
      "source": [
        "모델을 저장하고 로드하기 위해 tfe.Checkpoint는 hidden variables를 필요로 하지 않고 객체의 내부 상태를 저장합니다. 모델, 최적화 프로그램 및 전역 단계의 상태를 기록하려면 tfe.Checkpoint에 해당 단계를 전달하십시오."
      ]
    },
    {
      "metadata": {
        "id": "-kMmQkrKP1TL",
        "colab_type": "code",
        "colab": {
          "autoexec": {
            "startup": false,
            "wait_interval": 0
          },
          "output_extras": [
            {
              "item_id": 1
            }
          ],
          "base_uri": "https://localhost:8080/",
          "height": 54
        },
        "outputId": "f0c759c2-5c73-450e-91d5-66b02b3437e6",
        "executionInfo": {
          "status": "ok",
          "timestamp": 1522637270003,
          "user_tz": -540,
          "elapsed": 652,
          "user": {
            "displayName": "John Hwang",
            "photoUrl": "https://lh3.googleusercontent.com/a/default-user=s128",
            "userId": "100225940964623691936"
          }
        }
      },
      "cell_type": "code",
      "source": [
        "model = Model()\n",
        "optimizer = tf.train.AdamOptimizer(learning_rate=0.001)\n",
        "checkpoint_dir = './ckpt/'\n",
        "checkpoint_prefix = os.path.join(checkpoint_dir, \"ckpt\")\n",
        "root = tfe.Checkpoint(optimizer=optimizer,\n",
        "                      model=model,\n",
        "                      optimizer_step=tf.train.get_or_create_global_step())\n",
        "\n",
        "root.save(file_prefix=checkpoint_prefix)\n",
        "# or\n",
        "root.restore(tf.train.latest_checkpoint(checkpoint_dir))"
      ],
      "execution_count": 36,
      "outputs": [
        {
          "output_type": "execute_result",
          "data": {
            "text/plain": [
              "<tensorflow.contrib.eager.python.checkpointable_utils.CheckpointLoadStatus at 0x7f1f7edc2e10>"
            ]
          },
          "metadata": {
            "tags": []
          },
          "execution_count": 36
        }
      ]
    },
    {
      "metadata": {
        "id": "icmIGceQQRmd",
        "colab_type": "text"
      },
      "cell_type": "markdown",
      "source": [
        "#### Object-oriented metrics\n",
        "\n",
        "tfe.metrics는 객체로 저장됩니다. callable에 새 데이터를 전달하여 메트릭을 업데이트하고 tfe.metrics.result 메소드를 사용하여 결과를 검색하십시오. 예를 들면 다음과 같습니다."
      ]
    },
    {
      "metadata": {
        "id": "XA9ByqEQQDo4",
        "colab_type": "code",
        "colab": {
          "autoexec": {
            "startup": false,
            "wait_interval": 0
          },
          "output_extras": [
            {
              "item_id": 1
            }
          ],
          "base_uri": "https://localhost:8080/",
          "height": 70
        },
        "outputId": "6b1b2734-6168-4b92-afd0-514eac78fbdc",
        "executionInfo": {
          "status": "ok",
          "timestamp": 1522637361639,
          "user_tz": -540,
          "elapsed": 600,
          "user": {
            "displayName": "John Hwang",
            "photoUrl": "https://lh3.googleusercontent.com/a/default-user=s128",
            "userId": "100225940964623691936"
          }
        }
      },
      "cell_type": "code",
      "source": [
        "m = tfe.metrics.Mean(\"loss\")\n",
        "m(0)\n",
        "m(5)\n",
        "print(\"m.result() : {}\".format(m.result()))  # => 2.5\n",
        "m([8, 9])\n",
        "print(\"m.result() : {}\".format(m.result()))  # => 5.5"
      ],
      "execution_count": 37,
      "outputs": [
        {
          "output_type": "stream",
          "text": [
            "m.result() : 2.5\n",
            "m.result() : 5.5\n"
          ],
          "name": "stdout"
        }
      ]
    },
    {
      "metadata": {
        "id": "MBYwZdjiQoNI",
        "colab_type": "text"
      },
      "cell_type": "markdown",
      "source": [
        "#### Summaries and TensorBoard\n",
        "\n",
        "TensorBoard는 모델 교육 과정을 이해하고, 디버깅하고 최적화하기위한 시각화 도구입니다. 프로그램을 실행하는 동안 작성된 요약 이벤트를 사용합니다.\n",
        "\n",
        "tf.contrib.summary는 eager 및 그래프 실행 환경과 호환됩니다. 모델 구성 중에 tf.contrib.summary.scalar와 같은 요약 작업이 삽입됩니다. 예를 들어, 100 개의 글로벌 단계마다 요약을 기록하려면 다음과 같이하십시오."
      ]
    },
    {
      "metadata": {
        "id": "eVE_Mg52Qk7i",
        "colab_type": "code",
        "colab": {
          "autoexec": {
            "startup": false,
            "wait_interval": 0
          }
        }
      },
      "cell_type": "code",
      "source": [
        "writer = tf.contrib.summary.create_file_writer(logdir)\n",
        "global_step=tf.train.get_or_create_global_step()  # return global step var\n",
        "\n",
        "writer.set_as_default()\n",
        "\n",
        "for _ in range(iterations):\n",
        "  global_step.assign_add(1)\n",
        "  # Must include a record_summaries method\n",
        "  with tf.contrib.summary.record_summaries_every_n_global_steps(100):\n",
        "    # your model code goes here\n",
        "    tf.contrib.summary.scalar('loss', loss)\n",
        "     ..."
      ],
      "execution_count": 0,
      "outputs": []
    },
    {
      "metadata": {
        "id": "j_LYGD5tQ5hm",
        "colab_type": "text"
      },
      "cell_type": "markdown",
      "source": [
        "### Performance"
      ]
    },
    {
      "metadata": {
        "id": "p6qCtVsSQ-or",
        "colab_type": "text"
      },
      "cell_type": "markdown",
      "source": [
        "#### Benchmarks"
      ]
    },
    {
      "metadata": {
        "id": "BA_9yVW6RAzX",
        "colab_type": "text"
      },
      "cell_type": "markdown",
      "source": [
        "### Work with graphs\n",
        "\n",
        "eager execution으로 개발 및 디버깅을보다 상호 작용 적으로 수행 할 수 있지만 TensorFlow 그래프 실행은 분산 된 교육, 성능 최적화 및 프로덕션 배포에 이점이 있습니다. 그러나 그래프 코드를 작성하는 것은 일반적인 파이썬 코드 작성과 디버깅하기가 더 어려울 수 있습니다.\n",
        "\n",
        "graph-constructed models을 구축하고 교육하기 위해 Python 프로그램은 먼저 계산을 나타내는 그래프를 작성한 다음 Session.run을 호출하여 C ++ 기반 런타임에서 실행을 위해 그래프를 보냅니다. 이것은 다음을 제공합니다.\n",
        "\n",
        "* static autodiff를 사용한 Automatic differentiation.\n",
        "* 플랫폼 독립적 서버에 대한 간단한 배포.\n",
        "* 그래프 기반 최적화 (공통 하위 표현식 제거, constant-folding 등)\n",
        "* Compilation 및 kernel fusion\n",
        "* 자동 배포 및 복제 (분산 시스템에 노드 배치).\n",
        "\n",
        " eager execution을 위해 작성된 코드를 배포하는 것은 더 어렵습니다. 모델에서 그래프를 생성하거나 Python 런타임 및 코드를 서버에서 직접 실행하십시오."
      ]
    },
    {
      "metadata": {
        "id": "DgXulkv9TkBr",
        "colab_type": "text"
      },
      "cell_type": "markdown",
      "source": [
        "#### Write compatible code\n",
        "\n",
        "eager execution을 위해 작성된 동일한 코드는 그래프 실행 도중 그래프를 작성합니다. eager execution이 활성화되지 않은 새로운 Python 세션에서 동일한 코드를 실행하면됩니다.\n",
        "\n",
        "대부분의 TensorFlow 작업은 eager execution 동안 작동하지만 몇 가지 사항을 염두에 두어야합니다.\n",
        "\n",
        "* queues 대신 입력 처리를 위해 tf.data를 사용하십시오. 빠르고 쉽습니다.\n",
        "* 변수에 대한 명시적인 저장소가 있으므로, object-oriented layer APIs를 사용하십시오-tf.keras.layers 및 tf.keras.Model과 같은\n",
        "* 대부분의 모델 코드는 eager execution과 그래프를 실행하는 동안 동일하게 작동하지만 예외가 있습니다. (예를 들어, 입력을 기반으로 계산을 변경하기 위해 Python 제어 흐름을 사용하는 동적 모델).\n",
        "* tf.enable_eager_execution으로 eager 실행을 활성화 한 후에는 해제 할 수 없습니다. 새로운 Python 세션을 시작하여 그래프 실행으로 돌아갑니다.\n",
        "\n",
        "eager execution과 그래프 실행을 위한 코드를 작성하는 것이 가장 좋습니다. 따라서 그래프 실행의 분산 된 성능 이점을 통해 대화식 실험 및 디버깅 기능을 제공합니다.\n",
        "\n",
        "코드의 write, debug, iterate를 eager execution에서 작성하고, 프로덕션 배포를 위해 모델 그래프를 가져옵니다. tfe.Checkpoint를 사용하여 모델 변수를 저장하고 복원하면 eager execution과 그래프 실행 환경 사이를 이동할 수 있습니다. 예 : tensorflow / contrib / eager / python / examples을 참조하십시오."
      ]
    },
    {
      "metadata": {
        "id": "CdWNgvFgREtp",
        "colab_type": "text"
      },
      "cell_type": "markdown",
      "source": [
        "#### Use eager execution in a graph environment\n",
        "\n",
        "tfe.py_func를 사용하여 TensorFlow 그래프 환경에서 eager execution을 선택적으로 활성화합니다. 이것은 tf.enable_eager_execution ()이 호출되지 않았을 때 사용됩니다"
      ]
    },
    {
      "metadata": {
        "id": "wJ0ynQIoRVnR",
        "colab_type": "text"
      },
      "cell_type": "markdown",
      "source": [
        "##### eager excution enable 중 일때 에러메시지"
      ]
    },
    {
      "metadata": {
        "id": "6xxugA5yQ8P1",
        "colab_type": "code",
        "colab": {
          "autoexec": {
            "startup": false,
            "wait_interval": 0
          },
          "output_extras": [
            {
              "item_id": 1
            }
          ],
          "base_uri": "https://localhost:8080/",
          "height": 363
        },
        "outputId": "e0c30ee7-a884-456f-b76e-e6529fc41743",
        "executionInfo": {
          "status": "error",
          "timestamp": 1522637545534,
          "user_tz": -540,
          "elapsed": 575,
          "user": {
            "displayName": "John Hwang",
            "photoUrl": "https://lh3.googleusercontent.com/a/default-user=s128",
            "userId": "100225940964623691936"
          }
        }
      },
      "cell_type": "code",
      "source": [
        "def my_py_func(x):\n",
        "  x = tf.matmul(x, x)  # You can use tf ops\n",
        "  print(x)  # but it's eager!\n",
        "  return x\n",
        "\n",
        "with tf.Session() as sess:\n",
        "  x = tf.placeholder(dtype=tf.float32)\n",
        "  # Call eager function in graph!\n",
        "  pf = tfe.py_func(my_py_func, [x], tf.float32)\n",
        "  sess.run(pf, feed_dict={x: [[2.0]]})  # [[4.0]]"
      ],
      "execution_count": 38,
      "outputs": [
        {
          "output_type": "error",
          "ename": "RuntimeError",
          "evalue": "ignored",
          "traceback": [
            "\u001b[0;31m---------------------------------------------------------------------------\u001b[0m",
            "\u001b[0;31mRuntimeError\u001b[0m                              Traceback (most recent call last)",
            "\u001b[0;32m<ipython-input-38-895af86225bd>\u001b[0m in \u001b[0;36m<module>\u001b[0;34m()\u001b[0m\n\u001b[1;32m      5\u001b[0m \u001b[0;34m\u001b[0m\u001b[0m\n\u001b[1;32m      6\u001b[0m \u001b[0;32mwith\u001b[0m \u001b[0mtf\u001b[0m\u001b[0;34m.\u001b[0m\u001b[0mSession\u001b[0m\u001b[0;34m(\u001b[0m\u001b[0;34m)\u001b[0m \u001b[0;32mas\u001b[0m \u001b[0msess\u001b[0m\u001b[0;34m:\u001b[0m\u001b[0;34m\u001b[0m\u001b[0m\n\u001b[0;32m----> 7\u001b[0;31m   \u001b[0mx\u001b[0m \u001b[0;34m=\u001b[0m \u001b[0mtf\u001b[0m\u001b[0;34m.\u001b[0m\u001b[0mplaceholder\u001b[0m\u001b[0;34m(\u001b[0m\u001b[0mdtype\u001b[0m\u001b[0;34m=\u001b[0m\u001b[0mtf\u001b[0m\u001b[0;34m.\u001b[0m\u001b[0mfloat32\u001b[0m\u001b[0;34m)\u001b[0m\u001b[0;34m\u001b[0m\u001b[0m\n\u001b[0m\u001b[1;32m      8\u001b[0m   \u001b[0;31m# Call eager function in graph!\u001b[0m\u001b[0;34m\u001b[0m\u001b[0;34m\u001b[0m\u001b[0m\n\u001b[1;32m      9\u001b[0m   \u001b[0mpf\u001b[0m \u001b[0;34m=\u001b[0m \u001b[0mtfe\u001b[0m\u001b[0;34m.\u001b[0m\u001b[0mpy_func\u001b[0m\u001b[0;34m(\u001b[0m\u001b[0mmy_py_func\u001b[0m\u001b[0;34m,\u001b[0m \u001b[0;34m[\u001b[0m\u001b[0mx\u001b[0m\u001b[0;34m]\u001b[0m\u001b[0;34m,\u001b[0m \u001b[0mtf\u001b[0m\u001b[0;34m.\u001b[0m\u001b[0mfloat32\u001b[0m\u001b[0;34m)\u001b[0m\u001b[0;34m\u001b[0m\u001b[0m\n",
            "\u001b[0;32m/usr/local/lib/python3.6/dist-packages/tensorflow/python/ops/array_ops.py\u001b[0m in \u001b[0;36mplaceholder\u001b[0;34m(dtype, shape, name)\u001b[0m\n\u001b[1;32m   1772\u001b[0m   \"\"\"\n\u001b[1;32m   1773\u001b[0m   \u001b[0;32mif\u001b[0m \u001b[0mcontext\u001b[0m\u001b[0;34m.\u001b[0m\u001b[0mexecuting_eagerly\u001b[0m\u001b[0;34m(\u001b[0m\u001b[0;34m)\u001b[0m\u001b[0;34m:\u001b[0m\u001b[0;34m\u001b[0m\u001b[0m\n\u001b[0;32m-> 1774\u001b[0;31m     raise RuntimeError(\"tf.placeholder() is not compatible with \"\n\u001b[0m\u001b[1;32m   1775\u001b[0m                        \"eager execution.\")\n\u001b[1;32m   1776\u001b[0m \u001b[0;34m\u001b[0m\u001b[0m\n",
            "\u001b[0;31mRuntimeError\u001b[0m: tf.placeholder() is not compatible with eager execution."
          ]
        }
      ]
    },
    {
      "metadata": {
        "id": "huyvnS9SRYk5",
        "colab_type": "text"
      },
      "cell_type": "markdown",
      "source": [
        "##### eager execution 해제 후 실행"
      ]
    },
    {
      "metadata": {
        "id": "ZX4RJqD0RR1K",
        "colab_type": "code",
        "colab": {
          "autoexec": {
            "startup": false,
            "wait_interval": 0
          },
          "output_extras": [
            {
              "item_id": 1
            }
          ],
          "base_uri": "https://localhost:8080/",
          "height": 54
        },
        "outputId": "1cc754c2-f1d5-4c46-9ccc-60d02c1531ff",
        "executionInfo": {
          "status": "ok",
          "timestamp": 1522638790379,
          "user_tz": -540,
          "elapsed": 676,
          "user": {
            "displayName": "John Hwang",
            "photoUrl": "https://lh3.googleusercontent.com/a/default-user=s128",
            "userId": "100225940964623691936"
          }
        }
      },
      "cell_type": "code",
      "source": [
        "import tensorflow as tf\n",
        "import tensorflow.contrib.eager as tfe\n",
        "\n",
        "def my_py_func(x):\n",
        "  x = tf.matmul(x, x)  # You can use tf ops\n",
        "  print(x)  # but it's eager!\n",
        "  return x\n",
        "\n",
        "with tf.Session() as sess:\n",
        "  x = tf.placeholder(dtype=tf.float32)\n",
        "  # Call eager function in graph!\n",
        "  pf = tfe.py_func(my_py_func, [x], tf.float32)\n",
        "  sess.run(pf, feed_dict={x: [[2.0]]})  # [[4.0]]"
      ],
      "execution_count": 5,
      "outputs": [
        {
          "output_type": "stream",
          "text": [
            "tf.Tensor([[4.]], shape=(1, 1), dtype=float32)\n"
          ],
          "name": "stdout"
        }
      ]
    },
    {
      "metadata": {
        "id": "fM42kjf_Rmlv",
        "colab_type": "code",
        "colab": {
          "autoexec": {
            "startup": false,
            "wait_interval": 0
          }
        }
      },
      "cell_type": "code",
      "source": [
        ""
      ],
      "execution_count": 0,
      "outputs": []
    }
  ]
}